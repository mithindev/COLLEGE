{
 "cells": [
  {
   "cell_type": "markdown",
   "metadata": {},
   "source": [
    "Implementing BoW from Scratch"
   ]
  },
  {
   "cell_type": "code",
   "execution_count": 4,
   "metadata": {},
   "outputs": [
    {
     "name": "stdout",
     "output_type": "stream",
     "text": [
      "Vocabulary: ['great', 'i', 'is', 'love', 'python']\n",
      "Bag of Words Vectors:\n",
      "I love Python: [0, 1, 0, 1, 1]\n",
      "Python is great: [1, 0, 1, 0, 1]\n"
     ]
    }
   ],
   "source": [
    "import re\n",
    "\n",
    "def preprocess(text):\n",
    "  text = text.lower()\n",
    "  text = re.sub(r'[^\\w\\s]', '', text)\n",
    "  words = text.split()\n",
    "  return words\n",
    "\n",
    "def bag_of_words(sentences):\n",
    "  vocab = set()\n",
    "  processed = []\n",
    "  \n",
    "  for sentence in sentences:\n",
    "    words = preprocess(sentence)\n",
    "    processed.append(words)\n",
    "    vocab.update(words)\n",
    "\n",
    "  vocab = sorted(vocab)\n",
    "  vocab_dict = {}\n",
    "  \n",
    "  for word in vocab:\n",
    "    vocab_dict[word] = len(vocab_dict)\n",
    "  \n",
    "  bow = []\n",
    "  \n",
    "  for words in processed:\n",
    "    vector = [0] * len(vocab)\n",
    "    for word in words:\n",
    "      vector[vocab_dict[word]] += 1\n",
    "    bow.append(vector)\n",
    "  \n",
    "  return vocab, bow\n",
    "  \n",
    "sentences = [\"I love Python\", \"Python is great\"]\n",
    "vocab, vectors = bag_of_words(sentences)\n",
    "\n",
    "# Display results\n",
    "print(\"Vocabulary:\", vocab)\n",
    "print(\"Bag of Words Vectors:\")\n",
    "for sentence, vector in zip(sentences, vectors):\n",
    "    print(f\"{sentence}: {vector}\")   \n",
    "    "
   ]
  },
  {
   "cell_type": "markdown",
   "metadata": {},
   "source": [
    "One Hot Encoding"
   ]
  },
  {
   "cell_type": "code",
   "execution_count": 5,
   "metadata": {},
   "outputs": [
    {
     "name": "stdout",
     "output_type": "stream",
     "text": [
      "Vocabulary: ['great', 'i', 'is', 'love', 'python']\n",
      "\n",
      "One-Hot Encoding for each word:\n",
      "great: [1, 0, 0, 0, 0]\n",
      "i: [0, 1, 0, 0, 0]\n",
      "is: [0, 0, 1, 0, 0]\n",
      "love: [0, 0, 0, 1, 0]\n",
      "python: [0, 0, 0, 0, 1]\n"
     ]
    }
   ],
   "source": [
    "import re\n",
    "\n",
    "def preprocess(text):\n",
    "    text = text.lower()  # Convert to lowercase\n",
    "    text = re.sub(r'[^\\w\\s]', '', text)  # Remove punctuation\n",
    "    words = text.split()  # Tokenize (split by spaces)\n",
    "    return words\n",
    "\n",
    "def one_hot_encoding(sentences):\n",
    "    vocab = set()\n",
    "    processed_sentences = []\n",
    "    \n",
    "    for sentence in sentences:\n",
    "        words = preprocess(sentence)\n",
    "        processed_sentences.append(words)\n",
    "        vocab.update(words)\n",
    "  \n",
    "    vocab = sorted(vocab)  # Sort for consistency\n",
    "    vocab_dict = {}\n",
    "    for word in vocab:\n",
    "        vocab_dict[word] = len(vocab_dict)\n",
    "        \n",
    "    one_hot_vectors = {}\n",
    "    vocab_size = len(vocab)\n",
    "\n",
    "    for word in vocab:\n",
    "        vector = [0] * vocab_size  # Initialize zero vector\n",
    "        vector[vocab_dict[word]] = 1  # Set the corresponding index to 1\n",
    "        one_hot_vectors[word] = vector\n",
    "\n",
    "    return vocab, one_hot_vectors\n",
    "  \n",
    "sentences = [\"I love Python\", \"Python is great\"]\n",
    "vocab, one_hot_vectors = one_hot_encoding(sentences)\n",
    "\n",
    "# Display results\n",
    "print(\"Vocabulary:\", vocab)\n",
    "print(\"\\nOne-Hot Encoding for each word:\")\n",
    "for word, vector in one_hot_vectors.items():\n",
    "    print(f\"{word}: {vector}\")"
   ]
  }
 ],
 "metadata": {
  "kernelspec": {
   "display_name": "env",
   "language": "python",
   "name": "python3"
  },
  "language_info": {
   "codemirror_mode": {
    "name": "ipython",
    "version": 3
   },
   "file_extension": ".py",
   "mimetype": "text/x-python",
   "name": "python",
   "nbconvert_exporter": "python",
   "pygments_lexer": "ipython3",
   "version": "3.12.4"
  }
 },
 "nbformat": 4,
 "nbformat_minor": 2
}
