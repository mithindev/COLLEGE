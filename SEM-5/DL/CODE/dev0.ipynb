{
 "cells": [
  {
   "cell_type": "code",
   "execution_count": 1,
   "metadata": {},
   "outputs": [
    {
     "name": "stdout",
     "output_type": "stream",
     "text": [
      "Sequences:\n",
      " tensor([[1., 2., 3.],\n",
      "        [2., 3., 4.],\n",
      "        [3., 4., 5.],\n",
      "        [4., 5., 6.]])\n",
      "Labels:\n",
      " tensor([[4.],\n",
      "        [5.],\n",
      "        [6.],\n",
      "        [7.]])\n"
     ]
    },
    {
     "name": "stderr",
     "output_type": "stream",
     "text": [
      "/var/folders/4w/t_rs_h2144q0rmw1kx3__qsc0000gn/T/ipykernel_29111/2167546966.py:18: UserWarning: Creating a tensor from a list of numpy.ndarrays is extremely slow. Please consider converting the list to a single numpy.ndarray with numpy.array() before converting to a tensor. (Triggered internally at /Users/runner/work/pytorch/pytorch/pytorch/torch/csrc/utils/tensor_new.cpp:281.)\n",
      "  sequences = torch.tensor(sequences, dtype=torch.float32)\n"
     ]
    }
   ],
   "source": [
    "import numpy as np\n",
    "import torch\n",
    "from torch import nn\n",
    "import matplotlib.pyplot as plt\n",
    "\n",
    "# Create sequential data\n",
    "data = np.array([1, 2, 3, 4, 5, 6, 7])\n",
    "seq_len = 3\n",
    "sequences = []\n",
    "labels = []\n",
    "\n",
    "# Create sequences like [1, 2, 3], [2, 3, 4], etc., and labels [4, 5, 6, 7]\n",
    "for i in range(len(data) - seq_len):\n",
    "    sequences.append(data[i:i+seq_len])\n",
    "    labels.append(data[i+seq_len])\n",
    "\n",
    "# Convert to tensors\n",
    "sequences = torch.tensor(sequences, dtype=torch.float32)\n",
    "labels = torch.tensor(labels, dtype=torch.float32).reshape(-1, 1)\n",
    "\n",
    "print(\"Sequences:\\n\", sequences)\n",
    "print(\"Labels:\\n\", labels)\n"
   ]
  },
  {
   "cell_type": "code",
   "execution_count": 2,
   "metadata": {},
   "outputs": [
    {
     "name": "stdout",
     "output_type": "stream",
     "text": [
      "SimpleRNN(\n",
      "  (rnn): RNN(1, 10, batch_first=True)\n",
      "  (fc): Linear(in_features=10, out_features=1, bias=True)\n",
      ")\n"
     ]
    }
   ],
   "source": [
    "class SimpleRNN(nn.Module):\n",
    "    def __init__(self, input_size, hidden_size, output_size):\n",
    "        super(SimpleRNN, self).__init__()\n",
    "        # Define the RNN layer\n",
    "        self.rnn = nn.RNN(input_size, hidden_size, batch_first=True)\n",
    "        # Define the output layer\n",
    "        self.fc = nn.Linear(hidden_size, output_size)\n",
    "\n",
    "    def forward(self, x):\n",
    "        # RNN produces an output and a hidden state\n",
    "        rnn_out, hidden = self.rnn(x)\n",
    "        # We use the last output of the sequence for prediction\n",
    "        out = self.fc(rnn_out[:, -1, :])\n",
    "        return out\n",
    "\n",
    "# Initialize the model\n",
    "input_size = 1   # 1 because we are feeding 1 number at each time step\n",
    "hidden_size = 10 # Number of neurons in the hidden layer\n",
    "output_size = 1  # Predicting one number\n",
    "model = SimpleRNN(input_size, hidden_size, output_size)\n",
    "\n",
    "print(model)\n"
   ]
  },
  {
   "cell_type": "code",
   "execution_count": 3,
   "metadata": {},
   "outputs": [
    {
     "name": "stdout",
     "output_type": "stream",
     "text": [
      "Epoch [50/200], Loss: 1.2366\n",
      "Epoch [100/200], Loss: 1.2237\n",
      "Epoch [150/200], Loss: 1.1095\n",
      "Epoch [200/200], Loss: 0.2168\n"
     ]
    },
    {
     "data": {
      "image/png": "[encoded data removed]",
      "text/plain": [
       "<Figure size 640x480 with 1 Axes>"
      ]
     },
     "metadata": {},
     "output_type": "display_data"
    }
   ],
   "source": [
    "# Define loss function and optimizer\n",
    "criterion = nn.MSELoss()\n",
    "optimizer = torch.optim.Adam(model.parameters(), lr=0.01)\n",
    "\n",
    "# Reshape the sequences to match RNN input requirements (batch_size, seq_len, input_dim)\n",
    "sequences = sequences.unsqueeze(-1)\n",
    "\n",
    "# Training the model\n",
    "epochs = 200\n",
    "losses = []\n",
    "\n",
    "for epoch in range(epochs):\n",
    "    model.train()\n",
    "\n",
    "    # Forward pass\n",
    "    outputs = model(sequences)\n",
    "    loss = criterion(outputs, labels)\n",
    "\n",
    "    # Backward pass and optimization\n",
    "    optimizer.zero_grad()\n",
    "    loss.backward()\n",
    "    optimizer.step()\n",
    "\n",
    "    # Store the loss for plotting\n",
    "    losses.append(loss.item())\n",
    "\n",
    "    if (epoch + 1) % 50 == 0:\n",
    "        print(f'Epoch [{epoch+1}/{epochs}], Loss: {loss.item():.4f}')\n",
    "\n",
    "# Plot the training loss\n",
    "plt.plot(losses)\n",
    "plt.xlabel('Epoch')\n",
    "plt.ylabel('Loss')\n",
    "plt.title('Training Loss Over Time')\n",
    "plt.show()\n"
   ]
  }
 ],
 "metadata": {
  "kernelspec": {
   "display_name": "venv",
   "language": "python",
   "name": "python3"
  },
  "language_info": {
   "codemirror_mode": {
    "name": "ipython",
    "version": 3
   },
   "file_extension": ".py",
   "mimetype": "text/x-python",
   "name": "python",
   "nbconvert_exporter": "python",
   "pygments_lexer": "ipython3",
   "version": "3.12.4"
  }
 },
 "nbformat": 4,
 "nbformat_minor": 2
}
